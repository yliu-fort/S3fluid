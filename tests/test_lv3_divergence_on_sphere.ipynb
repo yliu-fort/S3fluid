{
 "cells": [
  {
   "cell_type": "code",
   "execution_count": 1,
   "metadata": {},
   "outputs": [
    {
     "name": "stdout",
     "output_type": "stream",
     "text": [
      "Intel MKL WARNING: Support of Intel(R) Streaming SIMD Extensions 4.2 (Intel(R) SSE4.2) enabled only processors has been deprecated. Intel oneAPI Math Kernel Library 2025.0 will require Intel(R) Advanced Vector Extensions (Intel(R) AVX) instructions.\n",
      "Intel MKL WARNING: Support of Intel(R) Streaming SIMD Extensions 4.2 (Intel(R) SSE4.2) enabled only processors has been deprecated. Intel oneAPI Math Kernel Library 2025.0 will require Intel(R) Advanced Vector Extensions (Intel(R) AVX) instructions.\n",
      "980\n",
      "barycenters = (3, 980)\n",
      "barynormals = (3, 980)\n",
      "areas = (980,)\n",
      "owners = (1470,)\n",
      "neighbours = (1470,)\n",
      "edges_to_vertices = (1470, 2)\n",
      "edge_lengths = (1470,)\n",
      "edge_centers = (3, 1470)\n",
      "edge_tangents = (3, 1470)\n",
      "edge_bitangents = (3, 1470)\n",
      "edge_normals = (3, 1470)\n",
      "cells_to_edges = 980\n",
      "edge_weighing_factor = (1470,)\n",
      "skewness = (1470,)\n",
      "skewness_vector = (3, 1470)\n",
      "points = (492, 3)\n",
      "point_normals = (492, 3)\n",
      "simplices = (980, 3)\n",
      "cf = (3, 1470)\n",
      "d_cf = (1470,)\n",
      "e = (3, 1470)\n",
      "ef = (1470,)\n",
      "owner_indices = (1470,)\n",
      "neighbour_indices = (1470,)\n",
      "normal_dot_e = (1470,)\n",
      "tf = (3, 1470)\n",
      "diffusion_operator = 0\n",
      "convection_operator = 0\n",
      "possion_operator = 0\n",
      "None\n"
     ]
    }
   ],
   "source": [
    "# %%\n",
    "import numpy as np\n",
    "from scipy.spatial import Delaunay, minkowski_distance\n",
    "import meshio\n",
    "import pygmsh\n",
    "import matplotlib.pyplot as plt\n",
    "from mpl_toolkits.mplot3d.art3d import Poly3DCollection\n",
    "from mesh import Mesh\n",
    "import scipy.sparse.linalg as spla\n",
    "from icosphere import icosphere\n",
    "from geometry import project_vector_to_plane\n",
    "\n",
    "np.random.seed(42)\n",
    "\n",
    "#with pygmsh.geo.Geometry() as geom:\n",
    "#    geom.add_rectangle(0.0, 1.0, 0.0, 1.0, 0.0, mesh_size=0.01)\n",
    "#    mesh = geom.generate_mesh()\n",
    "\n",
    "#points = mesh.points\n",
    "#simplices = mesh.cells_dict['triangle']\n",
    "#point_normals = np.array([[0,0,1]]*len(simplices))\n",
    "#mesh = Mesh(points, simplices, point_normals)\n",
    "\n",
    "points, simplices = icosphere(7)\n",
    "point_normals = points / np.linalg.norm(points,axis=-1,keepdims=True)\n",
    "print(len(simplices))\n",
    "mesh = Mesh(points, simplices, point_normals)\n",
    "\n",
    "print(mesh.print_member_shapes())"
   ]
  },
  {
   "cell_type": "code",
   "execution_count": null,
   "metadata": {},
   "outputs": [],
   "source": [
    "# %% Init\n",
    "# \\phi = x^2 + y^2 + (xy)^2\n",
    "xc = mesh.barycenters[:,0]\n",
    "yc = mesh.barycenters[:,1]\n",
    "zc = mesh.barycenters[:,2]\n",
    "\n",
    "phi = 1.0/np.cosh(100*(xc - 0.5))/np.cosh(100*(yc - 0.5))\n",
    "\n",
    "xf = mesh.edge_centers[:,0]\n",
    "yf = mesh.edge_centers[:,1]\n",
    "zf = mesh.edge_centers[:,2]\n",
    "\n",
    "u = np.random.randn(*(len(xc),3))\n",
    "\n",
    "for i in range(len(xc)):\n",
    "    u[i,:] = project_vector_to_plane(u[i,:],mesh.barynormals[i,:])\n",
    "outness = np.einsum(\"ij,ij->i\",u, mesh.barynormals)\n",
    "print(\"Initial outness: \", np.max(outness), np.min(outness))\n",
    "\n",
    "# Find face flux\n",
    "energy_profile = []\n",
    "div_profile = []\n",
    "for _ in range(50):\n",
    "    uf = mesh.interpolate_field_cell_to_face(u)\n",
    "    un = np.einsum(\"ij,ij->i\", uf, mesh.edge_normals)\n",
    "    un, du = mesh.helmholtz_projection(un)\n",
    "    u += du\n",
    "\n",
    "    e = mesh.get_total_kinetic_emergy(u)\n",
    "    print(\"U: \", e, np.max(u), np.min(u))\n",
    "    energy_profile.append(e)\n",
    "\n",
    "    uf1 = mesh.interpolate_field_cell_to_face(u)\n",
    "    un1 = np.einsum(\"ij,ij->i\",uf1, mesh.edge_normals)\n",
    "    div, max_div, min_div = mesh.divergence(un1)\n",
    "    div_profile.append(div)\n",
    "    print(\"Div: \", div, max_div, min_div)\n",
    "\n",
    "    div, max_div, min_div = mesh.divergence(un)\n",
    "    div_profile.append(div)\n",
    "    print(\"Div corr: \", div, max_div, min_div)\n",
    "\n",
    "    outness = np.einsum(\"ij,ij->i\",u, mesh.barynormals)\n",
    "    print(\"Outness: \", np.max(outness), np.min(outness))"
   ]
  },
  {
   "cell_type": "code",
   "execution_count": null,
   "metadata": {},
   "outputs": [],
   "source": [
    "mesh = meshio.Mesh(\n",
    "    points,\n",
    "    [(\"triangle\", simplices),],\n",
    "    # Optionally provide extra data on points, cells, etc.\n",
    "    #point_data={\"T\": [0.3, -1.2, 0.5, 0.7, 0.0, -3.0]},\n",
    "    # Each item in cell data must match the cells array\n",
    "    cell_data={\"u\": [u], \"normals\": [mesh.barynormals]},\n",
    ")\n",
    "mesh.write(\n",
    "    \"test_divergence.vtk\",  # str, os.PathLike, or buffer/open file\n",
    "    # file_format=\"vtk\",  # optional if first argument is a path; inferred from extension\n",
    ")"
   ]
  },
  {
   "cell_type": "code",
   "execution_count": null,
   "metadata": {},
   "outputs": [],
   "source": [
    "fig = plt.figure()\n",
    "ax1 = fig.add_subplot(121)\n",
    "ax1.plot(energy_profile)\n",
    "ax2 = fig.add_subplot(122)\n",
    "ax2.plot(div_profile)\n",
    "plt.show()"
   ]
  }
 ],
 "metadata": {
  "kernelspec": {
   "display_name": "Python 3.9.16 ('tf-gpu-env')",
   "language": "python",
   "name": "python3"
  },
  "language_info": {
   "codemirror_mode": {
    "name": "ipython",
    "version": 3
   },
   "file_extension": ".py",
   "mimetype": "text/x-python",
   "name": "python",
   "nbconvert_exporter": "python",
   "pygments_lexer": "ipython3",
   "version": "3.10.13"
  },
  "vscode": {
   "interpreter": {
    "hash": "f493fb80c6ec3ba139cd75caba8573550053bb325ae6e8e9726ed1d0c4ec9bdf"
   }
  }
 },
 "nbformat": 4,
 "nbformat_minor": 2
}
