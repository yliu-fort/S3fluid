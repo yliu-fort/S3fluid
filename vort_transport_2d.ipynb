{
 "cells": [
  {
   "cell_type": "code",
   "execution_count": 5,
   "metadata": {},
   "outputs": [
    {
     "name": "stderr",
     "output_type": "stream",
     "text": [
      "C:\\Users\\Chrono460\\AppData\\Local\\Temp\\ipykernel_2332\\3406467101.py:44: RuntimeWarning: divide by zero encountered in divide\n",
      "  INVK2 = np.where(K2==0, 0, 1.0/K2)\n"
     ]
    }
   ],
   "source": [
    "# %%\n",
    "import numpy as np\n",
    "from numpy.fft import rfft2, irfft2, rfftfreq, fftfreq\n",
    "import matplotlib.pyplot as plt\n",
    "import vtk\n",
    "from noises import pink_noise\n",
    "\n",
    "np.random.seed(42)\n",
    "\n",
    "# Define the grid dimensions\n",
    "nx = 1024  # Number of points in x direction\n",
    "ny = 1024  # Number of points in y direction\n",
    "\n",
    "# Define the range for x and y\n",
    "x_min, x_max = 0, 1  # Range for x\n",
    "y_min, y_max = 0, 1  # Range for y\n",
    "\n",
    "# Create the vertices\n",
    "x_vertices = np.linspace(x_min, x_max, nx+1)  # Create x values\n",
    "y_vertices = np.linspace(y_min, y_max, ny+1)  # Create y values\n",
    "\n",
    "# Use meshgrid to create the 2D vertices grid\n",
    "XV, YV = np.meshgrid(x_vertices, y_vertices)\n",
    "\n",
    "# Create the cell centers\n",
    "x_centers = (x_vertices[:-1]+x_vertices[1:]) / 2.0  # Create x values\n",
    "y_centers = (y_vertices[:-1]+y_vertices[1:]) / 2.0  # Create y values\n",
    "\n",
    "# Use meshgrid to create the 2D grid\n",
    "X, Y = np.meshgrid(x_centers, y_centers)\n",
    "\n",
    "# Calculate the step sizes in x and y directions\n",
    "dx = x_centers[1] - x_centers[0]\n",
    "dy = y_centers[1] - y_centers[0]\n",
    "\n",
    "# Calculate the wavenumbers in x and y directions\n",
    "kx = 2 * np.pi * rfftfreq(nx, dx)\n",
    "ky = 2 * np.pi * fftfreq(ny, dy)\n",
    "\n",
    "# Use meshgrid to create the 2D grid\n",
    "KX, KY = np.meshgrid(kx, ky)\n",
    "K2 = KX**2 + KY**2\n",
    "K = np.sqrt(K2)\n",
    "INVK2 = np.where(K2==0, 0, 1.0/K2)\n",
    "KNORM = np.sqrt((KX/np.max(KX))**2 + (KY/np.max(KY))**2)\n",
    "SPEC_FILTER = np.exp(-23.6 * 1024 * (KNORM - 2.0/3.0)**4.)\n",
    "SPEC_FILTER[KNORM <= 2.0/3.0] = 1"
   ]
  },
  {
   "cell_type": "code",
   "execution_count": 6,
   "metadata": {},
   "outputs": [],
   "source": [
    "def create_vtk_image_data(souts):\n",
    "    # Create vtkImageData\n",
    "    imageData = vtk.vtkImageData()\n",
    "    imageData.SetDimensions(nx+1, ny+1, 1)\n",
    "    imageData.SetSpacing(dx, dy, 1)\n",
    "    imageData.SetOrigin(x_min, y_min, 0)\n",
    "    \n",
    "    for key in souts:\n",
    "        # Create temperature data array\n",
    "        tempArray = vtk.vtkDoubleArray()\n",
    "        tempArray.SetName(key)\n",
    "        tempArray.SetNumberOfComponents(1)\n",
    "        tempArray.SetNumberOfTuples(nx * ny)\n",
    "        tempArray.SetArray(souts[key].ravel(), nx * ny, 1)\n",
    "        imageData.GetCellData().SetScalars(tempArray)\n",
    "    \n",
    "    return imageData\n",
    "\n",
    "def write_vtk_image_data(imageData, filename):\n",
    "    writer = vtk.vtkXMLImageDataWriter()\n",
    "    writer.SetFileName(filename)\n",
    "    writer.SetInputData(imageData)\n",
    "    writer.SetDataMode(vtk.vtkXMLWriter.Binary)\n",
    "    writer.Write()"
   ]
  },
  {
   "cell_type": "code",
   "execution_count": 7,
   "metadata": {},
   "outputs": [
    {
     "name": "stdout",
     "output_type": "stream",
     "text": [
      "0.0002814767563233989 1768\n"
     ]
    }
   ],
   "source": [
    "OMEGAH = rfft2(pink_noise(ny, nx))\n",
    "OMEGAH *= SPEC_FILTER*(ny/100*nx/100)\n",
    "PSIHAT = OMEGAH * INVK2\n",
    "U = irfft2(1j*KY*PSIHAT)\n",
    "V =-irfft2(1j*KX*PSIHAT)\n",
    "E0 = 0.5*np.sum(U**2+V**2)\n",
    "\n",
    "nu = 1e-6\n",
    "nt = 201\n",
    "tf = 100\n",
    "t = 0\n",
    "CFL = 0.5\n",
    "dt = CFL/max(np.max(np.abs(U/dx)),np.max(np.abs(V/dy)))\n",
    "nt_sub = int(np.ceil(tf/nt/dt))\n",
    "print(dt, nt_sub)"
   ]
  },
  {
   "cell_type": "code",
   "execution_count": 8,
   "metadata": {},
   "outputs": [],
   "source": [
    "def N(OMEGAH):\n",
    "    PSIHAT = OMEGAH * INVK2\n",
    "    NONL = -irfft2(1j*KY*PSIHAT)*irfft2(1j*KX*OMEGAH) + irfft2(1j*KX*PSIHAT)*irfft2(1j*KY*OMEGAH)\n",
    "    NONL = rfft2(NONL) * SPEC_FILTER\n",
    "    NONL += -nu * K2 * OMEGAH\n",
    "    return NONL\n",
    "\n",
    "for i in range(nt):\n",
    "    for _ in range(nt_sub):\n",
    "        k1 = dt * N(OMEGAH)\n",
    "        k2 = dt * N(OMEGAH+1.0/2.0*k1)\n",
    "        k3 = dt * N(OMEGAH+1.0/2.0*k2)\n",
    "        k4 = dt * N(OMEGAH+k3)\n",
    "        OMEGAH += 1.0/6.0*(k1 + 2*k2 + 2*k3 + k4)\n",
    "        t += dt\n",
    "\n",
    "    PSIHAT = OMEGAH * INVK2\n",
    "    U = irfft2(1j*KY*PSIHAT)\n",
    "    V =-irfft2(1j*KX*PSIHAT)\n",
    "    OMEGA = irfft2(OMEGAH)\n",
    "    E = 0.5*np.sum(U**2+V**2)\n",
    "    CFL = dt*max(np.max(np.abs(U/dx)),np.max(np.abs(V/dy)))\n",
    "    print(f\"{i}, {t:.2f}, {CFL:.2f}, {E/E0:.4f}, {np.sum(OMEGA)}\")\n",
    "\n",
    "    imageData = create_vtk_image_data({\"omega\": OMEGA})\n",
    "    filename = f\"results/vort_transport_2d_{i:03d}.vti\"\n",
    "    write_vtk_image_data(imageData, filename)\n"
   ]
  }
 ],
 "metadata": {
  "kernelspec": {
   "display_name": "Python 3.9.16 ('tf-gpu-env')",
   "language": "python",
   "name": "python3"
  },
  "language_info": {
   "codemirror_mode": {
    "name": "ipython",
    "version": 3
   },
   "file_extension": ".py",
   "mimetype": "text/x-python",
   "name": "python",
   "nbconvert_exporter": "python",
   "pygments_lexer": "ipython3",
   "version": "3.9.16"
  },
  "vscode": {
   "interpreter": {
    "hash": "f493fb80c6ec3ba139cd75caba8573550053bb325ae6e8e9726ed1d0c4ec9bdf"
   }
  }
 },
 "nbformat": 4,
 "nbformat_minor": 2
}
