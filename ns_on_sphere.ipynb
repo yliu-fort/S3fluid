{
 "cells": [
  {
   "cell_type": "code",
   "execution_count": null,
   "metadata": {},
   "outputs": [],
   "source": [
    "# %%\n",
    "import numpy as np\n",
    "import meshio\n",
    "import pygmsh\n",
    "import matplotlib.pyplot as plt\n",
    "from mpl_toolkits.mplot3d.art3d import Poly3DCollection\n",
    "from mesh import Mesh\n",
    "import scipy.sparse.linalg as spla\n",
    "from icosphere import icosphere\n",
    "from geometry import project_vectors_to_planes"
   ]
  },
  {
   "cell_type": "code",
   "execution_count": null,
   "metadata": {},
   "outputs": [],
   "source": [
    "points, simplices = icosphere(120)\n",
    "point_normals = points / np.linalg.norm(points,axis=-1,keepdims=True)\n",
    "print(len(simplices))\n",
    "mesh = Mesh(points, simplices, point_normals)\n",
    "\n",
    "if len(simplices) < 5000:\n",
    "    # Setup for a 3D plot\n",
    "    fig = plt.figure()\n",
    "    ax = fig.add_subplot(111, projection='3d')\n",
    "\n",
    "    # Plot each simplex\n",
    "    for simplex in simplices:\n",
    "        polygon = points[simplex]\n",
    "        ax.add_collection3d(Poly3DCollection([polygon], facecolors='grey', linewidths=1, edgecolors='k', alpha=.1))\n",
    "\n",
    "    # Set plot display parameters\n",
    "    ax.scatter(points[:,0], points[:,1], points[:,2], color='k')  # Plot the points\n",
    "    ax.set_xlabel('X')\n",
    "    ax.set_ylabel('Y')\n",
    "    ax.set_zlabel('Z')\n",
    "\n",
    "    # Adjusting the scale for better visualization\n",
    "    max_range = np.array([points[:,0].max()-points[:,0].min(), \n",
    "                        points[:,1].max()-points[:,1].min(), \n",
    "                        points[:,2].max()-points[:,2].min()]).max() / 2.0\n",
    "    mid_x = (points[:,0].max()+points[:,0].min()) * 0.5\n",
    "    mid_y = (points[:,1].max()+points[:,1].min()) * 0.5\n",
    "    mid_z = (points[:,2].max()+points[:,2].min()) * 0.5\n",
    "    ax.set_xlim(mid_x - max_range, mid_x + max_range)\n",
    "    ax.set_ylim(mid_y - max_range, mid_y + max_range)\n",
    "    ax.set_zlim(mid_z - max_range, mid_z + max_range)\n",
    "\n",
    "    plt.show()"
   ]
  },
  {
   "cell_type": "code",
   "execution_count": null,
   "metadata": {},
   "outputs": [],
   "source": [
    "# %% Init\n",
    "# \\phi = x^2 + y^2 + (xy)^2\n",
    "xc = mesh.barycenters[:,0]\n",
    "yc = mesh.barycenters[:,1]\n",
    "zc = mesh.barycenters[:,2]\n",
    "\n",
    "phi = 1.0/np.cosh(100*(xc - 0.5))/np.cosh(100*(yc - 0.5))\n",
    "\n",
    "xf = mesh.edge_centers[:,0]\n",
    "yf = mesh.edge_centers[:,1]\n",
    "zf = mesh.edge_centers[:,2]\n",
    "\n",
    "u = np.random.randn(*(len(xc),3))\n",
    "\n",
    "u = project_vectors_to_planes(u, mesh.barynormals)\n",
    "\n",
    "Iv = mesh.identity_matrix()\n",
    "\n",
    "for _ in range(5):\n",
    "    uf = mesh.interpolate_field_cell_to_face(u)\n",
    "    un = np.einsum(\"ij,ij->i\",uf, mesh.edge_normals)\n",
    "    un, du = mesh.helmholtz_projection(un)\n",
    "    u += du\n",
    "\n",
    "mesh0 = meshio.Mesh(\n",
    "    points,\n",
    "    [(\"triangle\", simplices),],\n",
    "    cell_data={\"u\": [u]},\n",
    ")\n",
    "mesh0.write(\n",
    "    \"ns_on_sphere0.vtk\",  # str, os.PathLike, or buffer/open file\n",
    "    # file_format=\"vtk\",  # optional if first argument is a path; inferred from extension\n",
    ")"
   ]
  },
  {
   "cell_type": "code",
   "execution_count": null,
   "metadata": {},
   "outputs": [],
   "source": [
    "with meshio.xdmf.TimeSeriesWriter(\"ns_on_sphere.xdmf\") as writer:\n",
    "    writer.write_points_cells(points, [(\"triangle\", simplices),])\n",
    "    for t in range(501):\n",
    "        # Solve\n",
    "        dt = 0.01\n",
    "        crank_nicolson_coeff = 0.5\n",
    "\n",
    "        # Projection\n",
    "        for _ in range(1):\n",
    "            uf = mesh.interpolate_field_cell_to_face(u)\n",
    "            un = np.einsum(\"ij,ij->i\",uf, mesh.edge_normals)\n",
    "            un, du = mesh.helmholtz_projection(un)\n",
    "            u += du\n",
    "\n",
    "        # Advections\n",
    "        uf = un[:, np.newaxis] * mesh.edge_normals\n",
    "        Jx,rhs_x = mesh.convection_matrix(u[:,0], uf, face_flux=True, quick=True)\n",
    "        u[:,0] = spla.bicgstab(Iv+crank_nicolson_coeff*dt*Jx, u[:,0]*mesh.areas-(1.0-crank_nicolson_coeff)*dt*Jx@u[:,0]+dt*rhs_x)[0]\n",
    "        Jy,rhs_y = mesh.convection_matrix(u[:,1], uf, face_flux=True, quick=True)\n",
    "        u[:,1] = spla.bicgstab(Iv+crank_nicolson_coeff*dt*Jy, u[:,1]*mesh.areas-(1.0-crank_nicolson_coeff)*dt*Jy@u[:,1]+dt*rhs_y)[0]\n",
    "        Jz,rhs_z = mesh.convection_matrix(u[:,2], uf, face_flux=True, quick=True)\n",
    "        u[:,2] = spla.bicgstab(Iv+crank_nicolson_coeff*dt*Jz, u[:,2]*mesh.areas-(1.0-crank_nicolson_coeff)*dt*Jz@u[:,2]+dt*rhs_z)[0]\n",
    "\n",
    "        # Project veloity on to the mesh surface\n",
    "        u = project_vectors_to_planes(u, mesh.barynormals)\n",
    "        \n",
    "        if t % 5 == 0:\n",
    "            print(t*dt)\n",
    "            writer.write_data(t*dt, cell_data={\"u\": [u]})"
   ]
  }
 ],
 "metadata": {
  "kernelspec": {
   "display_name": "Python 3.9.16 ('tf-gpu-env')",
   "language": "python",
   "name": "python3"
  },
  "language_info": {
   "codemirror_mode": {
    "name": "ipython",
    "version": 3
   },
   "file_extension": ".py",
   "mimetype": "text/x-python",
   "name": "python",
   "nbconvert_exporter": "python",
   "pygments_lexer": "ipython3",
   "version": "3.10.13"
  },
  "vscode": {
   "interpreter": {
    "hash": "f493fb80c6ec3ba139cd75caba8573550053bb325ae6e8e9726ed1d0c4ec9bdf"
   }
  }
 },
 "nbformat": 4,
 "nbformat_minor": 2
}
